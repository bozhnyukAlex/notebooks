{
 "cells": [
  {
   "cell_type": "code",
   "execution_count": 153,
   "metadata": {
    "collapsed": true
   },
   "outputs": [],
   "source": [
    "import pandas as pd\n",
    "import numpy as np\n",
    "from scipy.stats import norm, t"
   ]
  },
  {
   "cell_type": "code",
   "execution_count": 154,
   "outputs": [
    {
     "data": {
      "text/plain": "    Leningrad  Moscow\n0       184.0   165.0\n1       183.0   170.0\n2       183.0   174.0\n3       181.0   179.0\n4       180.0   166.0\n5       180.0   180.0\n6       179.0   172.0\n7       179.0   176.0\n8       179.0   177.0\n9       178.0   181.0\n10      177.0   165.0\n11      176.0   167.0\n12      176.0   175.0\n13      175.0   178.0\n14      175.0   172.0\n15      175.0   172.0\n16      175.0   179.0\n17      175.0   162.0\n18      175.0   168.0\n19      173.0   183.0\n20      172.0   165.0\n21      171.0   164.0\n22      170.0   171.0\n23      172.0   176.0\n24      169.0   182.0\n25      168.0   179.0\n26      171.0   187.0\n27      167.0   173.0\n28      169.0   181.0\n29        NaN   179.0\n30        NaN   195.0\n31        NaN   170.0\n32        NaN   188.0\n33        NaN   181.0",
      "text/html": "<div>\n<style scoped>\n    .dataframe tbody tr th:only-of-type {\n        vertical-align: middle;\n    }\n\n    .dataframe tbody tr th {\n        vertical-align: top;\n    }\n\n    .dataframe thead th {\n        text-align: right;\n    }\n</style>\n<table border=\"1\" class=\"dataframe\">\n  <thead>\n    <tr style=\"text-align: right;\">\n      <th></th>\n      <th>Leningrad</th>\n      <th>Moscow</th>\n    </tr>\n  </thead>\n  <tbody>\n    <tr>\n      <th>0</th>\n      <td>184.0</td>\n      <td>165.0</td>\n    </tr>\n    <tr>\n      <th>1</th>\n      <td>183.0</td>\n      <td>170.0</td>\n    </tr>\n    <tr>\n      <th>2</th>\n      <td>183.0</td>\n      <td>174.0</td>\n    </tr>\n    <tr>\n      <th>3</th>\n      <td>181.0</td>\n      <td>179.0</td>\n    </tr>\n    <tr>\n      <th>4</th>\n      <td>180.0</td>\n      <td>166.0</td>\n    </tr>\n    <tr>\n      <th>5</th>\n      <td>180.0</td>\n      <td>180.0</td>\n    </tr>\n    <tr>\n      <th>6</th>\n      <td>179.0</td>\n      <td>172.0</td>\n    </tr>\n    <tr>\n      <th>7</th>\n      <td>179.0</td>\n      <td>176.0</td>\n    </tr>\n    <tr>\n      <th>8</th>\n      <td>179.0</td>\n      <td>177.0</td>\n    </tr>\n    <tr>\n      <th>9</th>\n      <td>178.0</td>\n      <td>181.0</td>\n    </tr>\n    <tr>\n      <th>10</th>\n      <td>177.0</td>\n      <td>165.0</td>\n    </tr>\n    <tr>\n      <th>11</th>\n      <td>176.0</td>\n      <td>167.0</td>\n    </tr>\n    <tr>\n      <th>12</th>\n      <td>176.0</td>\n      <td>175.0</td>\n    </tr>\n    <tr>\n      <th>13</th>\n      <td>175.0</td>\n      <td>178.0</td>\n    </tr>\n    <tr>\n      <th>14</th>\n      <td>175.0</td>\n      <td>172.0</td>\n    </tr>\n    <tr>\n      <th>15</th>\n      <td>175.0</td>\n      <td>172.0</td>\n    </tr>\n    <tr>\n      <th>16</th>\n      <td>175.0</td>\n      <td>179.0</td>\n    </tr>\n    <tr>\n      <th>17</th>\n      <td>175.0</td>\n      <td>162.0</td>\n    </tr>\n    <tr>\n      <th>18</th>\n      <td>175.0</td>\n      <td>168.0</td>\n    </tr>\n    <tr>\n      <th>19</th>\n      <td>173.0</td>\n      <td>183.0</td>\n    </tr>\n    <tr>\n      <th>20</th>\n      <td>172.0</td>\n      <td>165.0</td>\n    </tr>\n    <tr>\n      <th>21</th>\n      <td>171.0</td>\n      <td>164.0</td>\n    </tr>\n    <tr>\n      <th>22</th>\n      <td>170.0</td>\n      <td>171.0</td>\n    </tr>\n    <tr>\n      <th>23</th>\n      <td>172.0</td>\n      <td>176.0</td>\n    </tr>\n    <tr>\n      <th>24</th>\n      <td>169.0</td>\n      <td>182.0</td>\n    </tr>\n    <tr>\n      <th>25</th>\n      <td>168.0</td>\n      <td>179.0</td>\n    </tr>\n    <tr>\n      <th>26</th>\n      <td>171.0</td>\n      <td>187.0</td>\n    </tr>\n    <tr>\n      <th>27</th>\n      <td>167.0</td>\n      <td>173.0</td>\n    </tr>\n    <tr>\n      <th>28</th>\n      <td>169.0</td>\n      <td>181.0</td>\n    </tr>\n    <tr>\n      <th>29</th>\n      <td>NaN</td>\n      <td>179.0</td>\n    </tr>\n    <tr>\n      <th>30</th>\n      <td>NaN</td>\n      <td>195.0</td>\n    </tr>\n    <tr>\n      <th>31</th>\n      <td>NaN</td>\n      <td>170.0</td>\n    </tr>\n    <tr>\n      <th>32</th>\n      <td>NaN</td>\n      <td>188.0</td>\n    </tr>\n    <tr>\n      <th>33</th>\n      <td>NaN</td>\n      <td>181.0</td>\n    </tr>\n  </tbody>\n</table>\n</div>"
     },
     "execution_count": 154,
     "metadata": {},
     "output_type": "execute_result"
    }
   ],
   "source": [
    "df = pd.read_excel('../height.xls', usecols=\"A,D\", dtype={'Leningrad': float, 'Moscow': float}, names=[\"Leningrad\", \"Moscow\"])\n",
    "df"
   ],
   "metadata": {
    "collapsed": false
   }
  },
  {
   "cell_type": "markdown",
   "source": [
    "## Sigma known"
   ],
   "metadata": {
    "collapsed": false
   }
  },
  {
   "cell_type": "code",
   "execution_count": 155,
   "outputs": [],
   "source": [
    "def get_confidence_interval_known(variance, sample_mean, sample_size, significance_level):\n",
    "    # norm.ppf - quantile function for normal distribution (inverse of cumulative distribution function)\n",
    "    margin_of_error = norm.ppf(1 - significance_level/2) * variance / np.sqrt(sample_size)\n",
    "    return sample_mean - margin_of_error, sample_mean + margin_of_error"
   ],
   "metadata": {
    "collapsed": false
   }
  },
  {
   "cell_type": "code",
   "execution_count": 156,
   "outputs": [
    {
     "data": {
      "text/plain": "0     184.0\n1     183.0\n2     183.0\n3     181.0\n4     180.0\n5     180.0\n6     179.0\n7     179.0\n8     179.0\n9     178.0\n10    177.0\n11    176.0\n12    176.0\n13    175.0\n14    175.0\n15    175.0\n16    175.0\n17    175.0\n18    175.0\n19    173.0\n20    172.0\n21    171.0\n22    170.0\n23    172.0\n24    169.0\n25    168.0\n26    171.0\n27    167.0\n28    169.0\nName: Leningrad, dtype: float64"
     },
     "execution_count": 156,
     "metadata": {},
     "output_type": "execute_result"
    }
   ],
   "source": [
    "data1 = df['Leningrad'].dropna() ## dropna() - drop NaN values\n",
    "sample_size = data1.size\n",
    "sample_mean = np.average(data1)\n",
    "sigma = np.sqrt(30)\n",
    "data1"
   ],
   "metadata": {
    "collapsed": false
   }
  },
  {
   "cell_type": "code",
   "execution_count": 157,
   "outputs": [
    {
     "data": {
      "text/plain": "(175.2859835437709, 175.54160266312567)"
     },
     "execution_count": 157,
     "metadata": {},
     "output_type": "execute_result"
    }
   ],
   "source": [
    "significance_level_known1 = 0.9\n",
    "confidence_interval_known1 = get_confidence_interval_known(sigma, sample_mean, sample_size, significance_level_known1)\n",
    "\n",
    "confidence_interval_known1"
   ],
   "metadata": {
    "collapsed": false
   }
  },
  {
   "cell_type": "code",
   "execution_count": 158,
   "outputs": [
    {
     "data": {
      "text/plain": "(175.0218854852446, 175.80570072165196)"
     },
     "execution_count": 158,
     "metadata": {},
     "output_type": "execute_result"
    }
   ],
   "source": [
    "significance_level_known2 = 0.7\n",
    "confidence_interval_known2 = get_confidence_interval_known(sigma, np.average(data1), data1.size, significance_level_known2)\n",
    "\n",
    "confidence_interval_known2"
   ],
   "metadata": {
    "collapsed": false
   }
  },
  {
   "cell_type": "markdown",
   "source": [
    "## Sigma unknown"
   ],
   "metadata": {
    "collapsed": false
   }
  },
  {
   "cell_type": "code",
   "execution_count": 159,
   "outputs": [],
   "source": [
    "def get_confidence_interval_unknown(sample_variance, sample_mean, sample_size, significance_level):\n",
    "    #t.ppf - quantile function for student distribution (inverse of cumulative distribution function)\n",
    "    degrees_of_freedom = sample_size - 1\n",
    "    margin_of_error = t.ppf(1 - (significance_level / 2), degrees_of_freedom) * sample_variance / np.sqrt(sample_size - 1)\n",
    "    return sample_mean - margin_of_error, sample_mean + margin_of_error"
   ],
   "metadata": {
    "collapsed": false
   }
  },
  {
   "cell_type": "code",
   "execution_count": 160,
   "outputs": [
    {
     "data": {
      "text/plain": "0     165.0\n1     170.0\n2     174.0\n3     179.0\n4     166.0\n5     180.0\n6     172.0\n7     176.0\n8     177.0\n9     181.0\n10    165.0\n11    167.0\n12    175.0\n13    178.0\n14    172.0\n15    172.0\n16    179.0\n17    162.0\n18    168.0\n19    183.0\n20    165.0\n21    164.0\n22    171.0\n23    176.0\n24    182.0\n25    179.0\n26    187.0\n27    173.0\n28    181.0\n29    179.0\n30    195.0\n31    170.0\n32    188.0\n33    181.0\nName: Moscow, dtype: float64"
     },
     "execution_count": 160,
     "metadata": {},
     "output_type": "execute_result"
    }
   ],
   "source": [
    "data2 = df['Moscow'].dropna() ## dropna() - drop NaN values\n",
    "sample_size = data2.size\n",
    "sample_mean = np.average(data2)\n",
    "sample_variance = sum([(x_i - sample_mean) ** 2 for x_i in data2]) / sample_size\n",
    "data2"
   ],
   "metadata": {
    "collapsed": false
   }
  },
  {
   "cell_type": "code",
   "execution_count": 161,
   "outputs": [
    {
     "data": {
      "text/plain": "(173.81407202598018, 176.30357503284336)"
     },
     "execution_count": 161,
     "metadata": {},
     "output_type": "execute_result"
    }
   ],
   "source": [
    "significance_level_unknown1 = 0.9\n",
    "confidence_interval_unknown1 = get_confidence_interval_unknown(sample_variance, sample_mean, sample_size, significance_level_unknown1)\n",
    "\n",
    "confidence_interval_unknown1"
   ],
   "metadata": {
    "collapsed": false
   }
  },
  {
   "cell_type": "code",
   "execution_count": 162,
   "outputs": [
    {
     "data": {
      "text/plain": "(171.23810298699837, 178.87954407182517)"
     },
     "execution_count": 162,
     "metadata": {},
     "output_type": "execute_result"
    }
   ],
   "source": [
    "significance_level_unknown2 = 0.7\n",
    "confidence_interval_unknown2 = get_confidence_interval_unknown(sample_variance, sample_mean, sample_size, significance_level_unknown2)\n",
    "\n",
    "confidence_interval_unknown2"
   ],
   "metadata": {
    "collapsed": false
   }
  }
 ],
 "metadata": {
  "kernelspec": {
   "display_name": "Python 3",
   "language": "python",
   "name": "python3"
  },
  "language_info": {
   "codemirror_mode": {
    "name": "ipython",
    "version": 2
   },
   "file_extension": ".py",
   "mimetype": "text/x-python",
   "name": "python",
   "nbconvert_exporter": "python",
   "pygments_lexer": "ipython2",
   "version": "2.7.6"
  }
 },
 "nbformat": 4,
 "nbformat_minor": 0
}
