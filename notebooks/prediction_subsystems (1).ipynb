{
 "cells": [
  {
   "cell_type": "code",
   "execution_count": 71,
   "metadata": {
    "collapsed": true
   },
   "outputs": [],
   "source": [
    "import numpy as np\n",
    "import pandas as pd\n",
    "from jetbrains_issues_dataset.idea.idea_data_set import idea_2018_10_15_to_idea_2020_10_15\n",
    "from jetbrains_issues_dataset.idea.issue_created_snapshot_strategy import IssueCreatedSnapshotStrategy\n",
    "from sklearn.calibration import CalibratedClassifierCV\n",
    "from sklearn.compose import ColumnTransformer\n",
    "from sklearn.feature_extraction.text import TfidfVectorizer\n",
    "from sklearn.metrics import top_k_accuracy_score\n",
    "from sklearn.model_selection import train_test_split\n",
    "from sklearn.pipeline import Pipeline, FeatureUnion\n",
    "from sklearn.svm import LinearSVC\n",
    "import matplotlib.pyplot as plt\n",
    "from sklearn.preprocessing import OneHotEncoder\n",
    "from sklearn_helper import fixed_top_k_accuracy_score\n",
    "import joblib\n",
    "\n",
    "from two_steps_model.preprocessing.idea.idea_issues_helper import process_issues_attributes, merge_equal_subsystems"
   ]
  },
  {
   "cell_type": "code",
   "execution_count": 2,
   "outputs": [],
   "source": [
    "issues = idea_2018_10_15_to_idea_2020_10_15(IssueCreatedSnapshotStrategy())\n",
    "issues = list(issues.values())\n",
    "issues_with_subsystem = list(filter(lambda x: 'subsystem' in x and x['subsystem'] not in [None, 'Unknown', 'No Subsystem', 'Am uncertain I'], issues))\n",
    "\n",
    "for issue in issues_with_subsystem:\n",
    "    process_issues_attributes(issue)\n",
    "df = pd.DataFrame(issues_with_subsystem)"
   ],
   "metadata": {
    "collapsed": false,
    "pycharm": {
     "name": "#%%\n"
    }
   }
  },
  {
   "cell_type": "code",
   "execution_count": 3,
   "outputs": [
    {
     "data": {
      "text/plain": "               id  id_readable comments     first_assignee last_assignee  \\\n0      25-2141146  IDEA-200514       {}        rvishnyakov   rvishnyakov   \n1      25-2141147  IDEA-200515       {}                NaN           NaN   \n2      25-2141159  IDEA-200516       {}  Kirill.Likhodedov   AMPivovarov   \n3      25-2141184  IDEA-200521       {}                sdv         julia   \n4      25-2141193  IDEA-200517       {}  Kirill.Likhodedov   AMPivovarov   \n...           ...          ...      ...                ...           ...   \n31265  25-3007633  IDEA-252944       {}                NaN           NaN   \n31266  25-3007771  IDEA-252951       {}                NaN           NaN   \n31267  25-3007774  IDEA-252952       {}                NaN           NaN   \n31268  25-3007807  IDEA-252953       {}                NaN           NaN   \n31269  25-3007868  IDEA-252958       {}                NaN           NaN   \n\n             state                                        description  \\\n0        Submitted  When a source file has been rearranged using C...   \n1        Submitted  I have a very large project with many thousand...   \n2        Submitted  The scenario is i have a multiline change that...   \n3        Submitted  Version: RD-182.4231.496\\nTimezone: Australia/...   \n4        Submitted  when comparing two branches I'm able to merge ...   \n...            ...                                                ...   \n31265         Open                                     ![](image.png)   \n31266         Open  Steps:\\nInstall the Chinese Language Pack EAP ...   \n31267    Submitted  When merging some change that has a lot of con...   \n31268         Open  ```\\npublic class Sample {\\n\\n    public int f...   \n31269  In Progress  Not consumed and undeclared Path Variables sho...   \n\n        idReadable                                            summary  \\\n0      IDEA-200514  Arrange test methods by corresponding tested m...   \n1      IDEA-200515                 Add Fork-by-package unit test mode   \n2      IDEA-200516  Highlight split changes in Commit Diff window ...   \n3      IDEA-200521                     Can't Go To (Ctrl+F) Tag Twice   \n4      IDEA-200517  merge completely added/deleted files during br...   \n...            ...                                                ...   \n31265  IDEA-252944         Completion doesn't work for mappedBy value   \n31266  IDEA-252951  Overlap content in plugin's right copy icon wh...   \n31267  IDEA-252952                  Show conflict resolution progress   \n31268  IDEA-252953  Extract method fails due to local class even f...   \n31269  IDEA-252958     Improved PathVariable inspection for Micronaut   \n\n       commentsCount  ...               subsystem             reporter  \\\n0                  0  ...       Editor. Formatter         roland.illig   \n1                  2  ...      Java. Tests. JUnit               leeh49   \n2                  9  ...    Version Control. Git             dxclancy   \n3                  5  ...    Version Control. Log         thepademelon   \n4                  2  ...    Version Control. Git               syncro   \n...              ...  ...                     ...                  ...   \n31265              0  ...              JavaX. JPA                serge   \n31266              0  ...            Localization           lejia.chen   \n31267              0  ...  Editor. Diff and Merge                 guno   \n31268              0  ...    Java. Extract Method     Alexandr.Suhinin   \n31269              0  ...   Frameworks. Micronaut  Nicolay.Mitropolsky   \n\n               created at                                  summary tokenized  \\\n0     2018-10-14 23:03:07  [arrange, test, method, correspond, test, method]   \n1     2018-10-14 23:03:11             [add, fork, package, unit, test, mode]   \n2     2018-10-14 23:59:43  [highlight, split, change, commit, diff, windo...   \n3     2018-10-15 01:39:30                          [go, ctrl, f, tag, twice]   \n4     2018-10-15 03:19:59  [merge, completely, added/deleted, file, branc...   \n...                   ...                                                ...   \n31265 2020-10-15 04:09:06                     [completion, work, map, value]   \n31266 2020-10-15 08:08:30  [overlap, content, plugin, right, copy, icon, ...   \n31267 2020-10-15 08:14:54             [show, conflict, resolution, progress]   \n31268 2020-10-15 08:37:46  [extract, method, fail, due, local, class, eve...   \n31269 2020-10-15 09:41:53   [improve, path, variable, inspection, micronaut]   \n\n                                   description tokenized  \\\n0      [source, file, rearrange, use, ctrl, alt, shif...   \n1      [large, project, many, thousand, test, one, ke...   \n2      [scenario, multiline, change, wish, move, port...   \n3      [version, rd, timezone, australia/sydney, eval...   \n4      [compare, two, branch, able, merge, change, fi...   \n...                                                  ...   \n31265                                       [image, png]   \n31266  [step, install, chinese, language, pack, eap, ...   \n31267  [merge, change, lot, conflict, file, hard, kee...   \n31268  [public, class, sample, public, int, field, la...   \n31269  [consume, undeclared, path, variable, report, ...   \n\n                                               all words  \\\n0      [arrange, test, method, correspond, test, meth...   \n1      [add, fork, package, unit, test, mode, large, ...   \n2      [highlight, split, change, commit, diff, windo...   \n3      [go, ctrl, f, tag, twice, version, rd, timezon...   \n4      [merge, completely, added/deleted, file, branc...   \n...                                                  ...   \n31265         [completion, work, map, value, image, png]   \n31266  [overlap, content, plugin, right, copy, icon, ...   \n31267  [show, conflict, resolution, progress, merge, ...   \n31268  [extract, method, fail, due, local, class, eve...   \n31269  [improve, path, variable, inspection, micronau...   \n\n                                          text tokenized stack traces  \\\n0      arrange test method correspond test method sou...                \n1      add fork package unit test mode large project ...                \n2      highlight split change commit diff window allo...                \n3      go ctrl f tag twice version rd timezone austra...                \n4      merge completely added/deleted file branch com...                \n...                                                  ...          ...   \n31265                completion work map value image png                \n31266  overlap content plugin right copy icon use lan...                \n31267  show conflict resolution progress merge change...                \n31268  extract method fail due local class even norma...                \n31269  improve path variable inspection micronaut con...                \n\n                 fixed_at          fixed_by  \n0                     NaT               NaN  \n1                     NaT               NaN  \n2                     NaT               NaN  \n3                     NaT               NaN  \n4                     NaT               NaN  \n...                   ...               ...  \n31265                 NaT               NaN  \n31266                 NaT               NaN  \n31267                 NaT               NaN  \n31268 2020-10-15 08:58:23  Alexandr.Suhinin  \n31269                 NaT               NaN  \n\n[31270 rows x 26 columns]",
      "text/html": "<div>\n<style scoped>\n    .dataframe tbody tr th:only-of-type {\n        vertical-align: middle;\n    }\n\n    .dataframe tbody tr th {\n        vertical-align: top;\n    }\n\n    .dataframe thead th {\n        text-align: right;\n    }\n</style>\n<table border=\"1\" class=\"dataframe\">\n  <thead>\n    <tr style=\"text-align: right;\">\n      <th></th>\n      <th>id</th>\n      <th>id_readable</th>\n      <th>comments</th>\n      <th>first_assignee</th>\n      <th>last_assignee</th>\n      <th>state</th>\n      <th>description</th>\n      <th>idReadable</th>\n      <th>summary</th>\n      <th>commentsCount</th>\n      <th>...</th>\n      <th>subsystem</th>\n      <th>reporter</th>\n      <th>created at</th>\n      <th>summary tokenized</th>\n      <th>description tokenized</th>\n      <th>all words</th>\n      <th>text tokenized</th>\n      <th>stack traces</th>\n      <th>fixed_at</th>\n      <th>fixed_by</th>\n    </tr>\n  </thead>\n  <tbody>\n    <tr>\n      <th>0</th>\n      <td>25-2141146</td>\n      <td>IDEA-200514</td>\n      <td>{}</td>\n      <td>rvishnyakov</td>\n      <td>rvishnyakov</td>\n      <td>Submitted</td>\n      <td>When a source file has been rearranged using C...</td>\n      <td>IDEA-200514</td>\n      <td>Arrange test methods by corresponding tested m...</td>\n      <td>0</td>\n      <td>...</td>\n      <td>Editor. Formatter</td>\n      <td>roland.illig</td>\n      <td>2018-10-14 23:03:07</td>\n      <td>[arrange, test, method, correspond, test, method]</td>\n      <td>[source, file, rearrange, use, ctrl, alt, shif...</td>\n      <td>[arrange, test, method, correspond, test, meth...</td>\n      <td>arrange test method correspond test method sou...</td>\n      <td></td>\n      <td>NaT</td>\n      <td>NaN</td>\n    </tr>\n    <tr>\n      <th>1</th>\n      <td>25-2141147</td>\n      <td>IDEA-200515</td>\n      <td>{}</td>\n      <td>NaN</td>\n      <td>NaN</td>\n      <td>Submitted</td>\n      <td>I have a very large project with many thousand...</td>\n      <td>IDEA-200515</td>\n      <td>Add Fork-by-package unit test mode</td>\n      <td>2</td>\n      <td>...</td>\n      <td>Java. Tests. JUnit</td>\n      <td>leeh49</td>\n      <td>2018-10-14 23:03:11</td>\n      <td>[add, fork, package, unit, test, mode]</td>\n      <td>[large, project, many, thousand, test, one, ke...</td>\n      <td>[add, fork, package, unit, test, mode, large, ...</td>\n      <td>add fork package unit test mode large project ...</td>\n      <td></td>\n      <td>NaT</td>\n      <td>NaN</td>\n    </tr>\n    <tr>\n      <th>2</th>\n      <td>25-2141159</td>\n      <td>IDEA-200516</td>\n      <td>{}</td>\n      <td>Kirill.Likhodedov</td>\n      <td>AMPivovarov</td>\n      <td>Submitted</td>\n      <td>The scenario is i have a multiline change that...</td>\n      <td>IDEA-200516</td>\n      <td>Highlight split changes in Commit Diff window ...</td>\n      <td>9</td>\n      <td>...</td>\n      <td>Version Control. Git</td>\n      <td>dxclancy</td>\n      <td>2018-10-14 23:59:43</td>\n      <td>[highlight, split, change, commit, diff, windo...</td>\n      <td>[scenario, multiline, change, wish, move, port...</td>\n      <td>[highlight, split, change, commit, diff, windo...</td>\n      <td>highlight split change commit diff window allo...</td>\n      <td></td>\n      <td>NaT</td>\n      <td>NaN</td>\n    </tr>\n    <tr>\n      <th>3</th>\n      <td>25-2141184</td>\n      <td>IDEA-200521</td>\n      <td>{}</td>\n      <td>sdv</td>\n      <td>julia</td>\n      <td>Submitted</td>\n      <td>Version: RD-182.4231.496\\nTimezone: Australia/...</td>\n      <td>IDEA-200521</td>\n      <td>Can't Go To (Ctrl+F) Tag Twice</td>\n      <td>5</td>\n      <td>...</td>\n      <td>Version Control. Log</td>\n      <td>thepademelon</td>\n      <td>2018-10-15 01:39:30</td>\n      <td>[go, ctrl, f, tag, twice]</td>\n      <td>[version, rd, timezone, australia/sydney, eval...</td>\n      <td>[go, ctrl, f, tag, twice, version, rd, timezon...</td>\n      <td>go ctrl f tag twice version rd timezone austra...</td>\n      <td></td>\n      <td>NaT</td>\n      <td>NaN</td>\n    </tr>\n    <tr>\n      <th>4</th>\n      <td>25-2141193</td>\n      <td>IDEA-200517</td>\n      <td>{}</td>\n      <td>Kirill.Likhodedov</td>\n      <td>AMPivovarov</td>\n      <td>Submitted</td>\n      <td>when comparing two branches I'm able to merge ...</td>\n      <td>IDEA-200517</td>\n      <td>merge completely added/deleted files during br...</td>\n      <td>2</td>\n      <td>...</td>\n      <td>Version Control. Git</td>\n      <td>syncro</td>\n      <td>2018-10-15 03:19:59</td>\n      <td>[merge, completely, added/deleted, file, branc...</td>\n      <td>[compare, two, branch, able, merge, change, fi...</td>\n      <td>[merge, completely, added/deleted, file, branc...</td>\n      <td>merge completely added/deleted file branch com...</td>\n      <td></td>\n      <td>NaT</td>\n      <td>NaN</td>\n    </tr>\n    <tr>\n      <th>...</th>\n      <td>...</td>\n      <td>...</td>\n      <td>...</td>\n      <td>...</td>\n      <td>...</td>\n      <td>...</td>\n      <td>...</td>\n      <td>...</td>\n      <td>...</td>\n      <td>...</td>\n      <td>...</td>\n      <td>...</td>\n      <td>...</td>\n      <td>...</td>\n      <td>...</td>\n      <td>...</td>\n      <td>...</td>\n      <td>...</td>\n      <td>...</td>\n      <td>...</td>\n      <td>...</td>\n    </tr>\n    <tr>\n      <th>31265</th>\n      <td>25-3007633</td>\n      <td>IDEA-252944</td>\n      <td>{}</td>\n      <td>NaN</td>\n      <td>NaN</td>\n      <td>Open</td>\n      <td>![](image.png)</td>\n      <td>IDEA-252944</td>\n      <td>Completion doesn't work for mappedBy value</td>\n      <td>0</td>\n      <td>...</td>\n      <td>JavaX. JPA</td>\n      <td>serge</td>\n      <td>2020-10-15 04:09:06</td>\n      <td>[completion, work, map, value]</td>\n      <td>[image, png]</td>\n      <td>[completion, work, map, value, image, png]</td>\n      <td>completion work map value image png</td>\n      <td></td>\n      <td>NaT</td>\n      <td>NaN</td>\n    </tr>\n    <tr>\n      <th>31266</th>\n      <td>25-3007771</td>\n      <td>IDEA-252951</td>\n      <td>{}</td>\n      <td>NaN</td>\n      <td>NaN</td>\n      <td>Open</td>\n      <td>Steps:\\nInstall the Chinese Language Pack EAP ...</td>\n      <td>IDEA-252951</td>\n      <td>Overlap content in plugin's right copy icon wh...</td>\n      <td>0</td>\n      <td>...</td>\n      <td>Localization</td>\n      <td>lejia.chen</td>\n      <td>2020-10-15 08:08:30</td>\n      <td>[overlap, content, plugin, right, copy, icon, ...</td>\n      <td>[step, install, chinese, language, pack, eap, ...</td>\n      <td>[overlap, content, plugin, right, copy, icon, ...</td>\n      <td>overlap content plugin right copy icon use lan...</td>\n      <td></td>\n      <td>NaT</td>\n      <td>NaN</td>\n    </tr>\n    <tr>\n      <th>31267</th>\n      <td>25-3007774</td>\n      <td>IDEA-252952</td>\n      <td>{}</td>\n      <td>NaN</td>\n      <td>NaN</td>\n      <td>Submitted</td>\n      <td>When merging some change that has a lot of con...</td>\n      <td>IDEA-252952</td>\n      <td>Show conflict resolution progress</td>\n      <td>0</td>\n      <td>...</td>\n      <td>Editor. Diff and Merge</td>\n      <td>guno</td>\n      <td>2020-10-15 08:14:54</td>\n      <td>[show, conflict, resolution, progress]</td>\n      <td>[merge, change, lot, conflict, file, hard, kee...</td>\n      <td>[show, conflict, resolution, progress, merge, ...</td>\n      <td>show conflict resolution progress merge change...</td>\n      <td></td>\n      <td>NaT</td>\n      <td>NaN</td>\n    </tr>\n    <tr>\n      <th>31268</th>\n      <td>25-3007807</td>\n      <td>IDEA-252953</td>\n      <td>{}</td>\n      <td>NaN</td>\n      <td>NaN</td>\n      <td>Open</td>\n      <td>```\\npublic class Sample {\\n\\n    public int f...</td>\n      <td>IDEA-252953</td>\n      <td>Extract method fails due to local class even f...</td>\n      <td>0</td>\n      <td>...</td>\n      <td>Java. Extract Method</td>\n      <td>Alexandr.Suhinin</td>\n      <td>2020-10-15 08:37:46</td>\n      <td>[extract, method, fail, due, local, class, eve...</td>\n      <td>[public, class, sample, public, int, field, la...</td>\n      <td>[extract, method, fail, due, local, class, eve...</td>\n      <td>extract method fail due local class even norma...</td>\n      <td></td>\n      <td>2020-10-15 08:58:23</td>\n      <td>Alexandr.Suhinin</td>\n    </tr>\n    <tr>\n      <th>31269</th>\n      <td>25-3007868</td>\n      <td>IDEA-252958</td>\n      <td>{}</td>\n      <td>NaN</td>\n      <td>NaN</td>\n      <td>In Progress</td>\n      <td>Not consumed and undeclared Path Variables sho...</td>\n      <td>IDEA-252958</td>\n      <td>Improved PathVariable inspection for Micronaut</td>\n      <td>0</td>\n      <td>...</td>\n      <td>Frameworks. Micronaut</td>\n      <td>Nicolay.Mitropolsky</td>\n      <td>2020-10-15 09:41:53</td>\n      <td>[improve, path, variable, inspection, micronaut]</td>\n      <td>[consume, undeclared, path, variable, report, ...</td>\n      <td>[improve, path, variable, inspection, micronau...</td>\n      <td>improve path variable inspection micronaut con...</td>\n      <td></td>\n      <td>NaT</td>\n      <td>NaN</td>\n    </tr>\n  </tbody>\n</table>\n<p>31270 rows × 26 columns</p>\n</div>"
     },
     "execution_count": 3,
     "metadata": {},
     "output_type": "execute_result"
    }
   ],
   "source": [
    "df"
   ],
   "metadata": {
    "collapsed": false,
    "pycharm": {
     "name": "#%%\n"
    }
   }
  },
  {
   "cell_type": "code",
   "execution_count": 4,
   "outputs": [],
   "source": [
    "merge_equal_subsystems(df)"
   ],
   "metadata": {
    "collapsed": false,
    "pycharm": {
     "name": "#%%\n"
    }
   }
  },
  {
   "cell_type": "code",
   "execution_count": 5,
   "outputs": [],
   "source": [
    "counts = df[['subsystem', 'id']].groupby('subsystem').count()\n",
    "important_subsystems = counts['id'] > 20"
   ],
   "metadata": {
    "collapsed": false,
    "pycharm": {
     "name": "#%%\n"
    }
   }
  },
  {
   "cell_type": "code",
   "execution_count": 6,
   "outputs": [
    {
     "data": {
      "text/plain": "0               Editor. Formatter\n1                            Java\n2                 Version Control\n3                  User Interface\n4                  Infrastructure\n                  ...            \n192                          jcef\n193           Unit Tests Coverage\n194    Structure, Hierarchy Views\n195                  Unity Plugin\n196                           CSS\nName: subsystem, Length: 197, dtype: object"
     },
     "execution_count": 6,
     "metadata": {},
     "output_type": "execute_result"
    }
   ],
   "source": [
    "subsystems = df['subsystem'].drop_duplicates().reset_index(drop=True)\n",
    "subsystems"
   ],
   "metadata": {
    "collapsed": false,
    "pycharm": {
     "name": "#%%\n"
    }
   }
  },
  {
   "cell_type": "code",
   "execution_count": 10,
   "metadata": {
    "pycharm": {
     "name": "#%%\n"
    }
   },
   "outputs": [],
   "source": [
    "final_df = df[['text tokenized', 'subsystem', 'reporter', 'fixed_by']]"
   ]
  },
  {
   "cell_type": "code",
   "execution_count": 11,
   "outputs": [],
   "source": [
    "train, test = train_test_split(final_df, random_state=1)\n",
    "train_assignee = train[train['fixed_by'].notnull()]\n",
    "test_assignee = test[test['fixed_by'].notnull()]"
   ],
   "metadata": {
    "collapsed": false,
    "pycharm": {
     "name": "#%%\n"
    }
   }
  },
  {
   "cell_type": "code",
   "execution_count": 13,
   "outputs": [
    {
     "name": "stderr",
     "output_type": "stream",
     "text": [
      "/Users/user/.datalore/anaconda/lib/python3.8/site-packages/sklearn/model_selection/_split.py:666: UserWarning: The least populated class in y has only 1 members, which is less than n_splits=5.\n",
      "  warnings.warn((\"The least populated class in y has only %d\"\n"
     ]
    },
    {
     "name": "stdout",
     "output_type": "stream",
     "text": [
      "Done\n"
     ]
    }
   ],
   "source": [
    "y_train = train['subsystem']\n",
    "X_train = train['text tokenized']\n",
    "\n",
    "pipeline_classifier = Pipeline([\n",
    "    ('feature', FeatureUnion([\n",
    "        ('text', Pipeline([\n",
    "            ('tfidf', TfidfVectorizer(ngram_range=(1, 3), max_df=0.8))\n",
    "        ])),\n",
    "    ])),\n",
    "    ('clf', CalibratedClassifierCV(LinearSVC(C=0.9)))\n",
    "])\n",
    "pipeline_classifier.fit(X_train, y_train)\n",
    "\n",
    "print(\"Done\")"
   ],
   "metadata": {
    "collapsed": false,
    "pycharm": {
     "name": "#%%\n"
    }
   }
  },
  {
   "cell_type": "code",
   "execution_count": 31,
   "outputs": [
    {
     "data": {
      "text/plain": "                      subsystem    id\n0                User Interface  6022\n1                          Java  4385\n2               Version Control  3259\n3                         Build  2568\n4                    Frameworks  1526\n5                        Editor  1385\n6            Core. IDE Settings   811\n7                 Code Analysis   793\n8                         JavaX   693\n9       Core. Plugin Management   686\n10                Tools. Docker   529\n11    Core. Run. Configurations   477\n12              Tools. Terminal   464\n13                       Groovy   423\n14                 Localization   381\n15            Tools. Kubernetes   366\n16       Core. Project Settings   347\n17            Editor. Formatter   335\n18           Core. Installation   324\n19  Core. Navigation and Search   285\n20  Plugin Development (DevKit)   268\n21               Core. Indexing   260\n22       Editor. Diff and Merge   246\n23                      Android   234\n24                         Core   222\n25               Lang. Markdown   213\n26               Core. Debugger   196\n27           Core. Platform API   195\n28           Tools. HTTP Client   190\n29      Editor. Code Completion   176\n30            Core. File System   161\n31    Core. Quick Documentation   150\n32                       Grazie   147\n33        Core. Task Management   143\n34           Lang. Shell Script   138\n35               Core. Profiler   128\n36                    Lang. XML   118\n37                    Core. SSH   102\n38        Editor. Color Schemes    93\n39           Core. Refactorings    93\n40    Editor. Intention Actions    81\n41              Core. Licensing    77\n42                          IDE    75\n43                   Lang. YAML    74\n44   Editor. Error Highlighting    67\n45               Core. Diagrams    67\n46              Lang. Thymeleaf    61\n47                     Markdown    60\n48           Core. Run. Targets    59\n49               Infrastructure    59\n50                           Go    56\n51                 Lang. RegExp    48\n52                   Lang. JSON    47\n53           Editor. Spellcheck    46\n54                        Space    46\n55    Core. Password Management    45\n56  Editor. Code Completion. ML    43\n57    Core. Run. External Tools    42",
      "text/html": "<div>\n<style scoped>\n    .dataframe tbody tr th:only-of-type {\n        vertical-align: middle;\n    }\n\n    .dataframe tbody tr th {\n        vertical-align: top;\n    }\n\n    .dataframe thead th {\n        text-align: right;\n    }\n</style>\n<table border=\"1\" class=\"dataframe\">\n  <thead>\n    <tr style=\"text-align: right;\">\n      <th></th>\n      <th>subsystem</th>\n      <th>id</th>\n    </tr>\n  </thead>\n  <tbody>\n    <tr>\n      <th>0</th>\n      <td>User Interface</td>\n      <td>6022</td>\n    </tr>\n    <tr>\n      <th>1</th>\n      <td>Java</td>\n      <td>4385</td>\n    </tr>\n    <tr>\n      <th>2</th>\n      <td>Version Control</td>\n      <td>3259</td>\n    </tr>\n    <tr>\n      <th>3</th>\n      <td>Build</td>\n      <td>2568</td>\n    </tr>\n    <tr>\n      <th>4</th>\n      <td>Frameworks</td>\n      <td>1526</td>\n    </tr>\n    <tr>\n      <th>5</th>\n      <td>Editor</td>\n      <td>1385</td>\n    </tr>\n    <tr>\n      <th>6</th>\n      <td>Core. IDE Settings</td>\n      <td>811</td>\n    </tr>\n    <tr>\n      <th>7</th>\n      <td>Code Analysis</td>\n      <td>793</td>\n    </tr>\n    <tr>\n      <th>8</th>\n      <td>JavaX</td>\n      <td>693</td>\n    </tr>\n    <tr>\n      <th>9</th>\n      <td>Core. Plugin Management</td>\n      <td>686</td>\n    </tr>\n    <tr>\n      <th>10</th>\n      <td>Tools. Docker</td>\n      <td>529</td>\n    </tr>\n    <tr>\n      <th>11</th>\n      <td>Core. Run. Configurations</td>\n      <td>477</td>\n    </tr>\n    <tr>\n      <th>12</th>\n      <td>Tools. Terminal</td>\n      <td>464</td>\n    </tr>\n    <tr>\n      <th>13</th>\n      <td>Groovy</td>\n      <td>423</td>\n    </tr>\n    <tr>\n      <th>14</th>\n      <td>Localization</td>\n      <td>381</td>\n    </tr>\n    <tr>\n      <th>15</th>\n      <td>Tools. Kubernetes</td>\n      <td>366</td>\n    </tr>\n    <tr>\n      <th>16</th>\n      <td>Core. Project Settings</td>\n      <td>347</td>\n    </tr>\n    <tr>\n      <th>17</th>\n      <td>Editor. Formatter</td>\n      <td>335</td>\n    </tr>\n    <tr>\n      <th>18</th>\n      <td>Core. Installation</td>\n      <td>324</td>\n    </tr>\n    <tr>\n      <th>19</th>\n      <td>Core. Navigation and Search</td>\n      <td>285</td>\n    </tr>\n    <tr>\n      <th>20</th>\n      <td>Plugin Development (DevKit)</td>\n      <td>268</td>\n    </tr>\n    <tr>\n      <th>21</th>\n      <td>Core. Indexing</td>\n      <td>260</td>\n    </tr>\n    <tr>\n      <th>22</th>\n      <td>Editor. Diff and Merge</td>\n      <td>246</td>\n    </tr>\n    <tr>\n      <th>23</th>\n      <td>Android</td>\n      <td>234</td>\n    </tr>\n    <tr>\n      <th>24</th>\n      <td>Core</td>\n      <td>222</td>\n    </tr>\n    <tr>\n      <th>25</th>\n      <td>Lang. Markdown</td>\n      <td>213</td>\n    </tr>\n    <tr>\n      <th>26</th>\n      <td>Core. Debugger</td>\n      <td>196</td>\n    </tr>\n    <tr>\n      <th>27</th>\n      <td>Core. Platform API</td>\n      <td>195</td>\n    </tr>\n    <tr>\n      <th>28</th>\n      <td>Tools. HTTP Client</td>\n      <td>190</td>\n    </tr>\n    <tr>\n      <th>29</th>\n      <td>Editor. Code Completion</td>\n      <td>176</td>\n    </tr>\n    <tr>\n      <th>30</th>\n      <td>Core. File System</td>\n      <td>161</td>\n    </tr>\n    <tr>\n      <th>31</th>\n      <td>Core. Quick Documentation</td>\n      <td>150</td>\n    </tr>\n    <tr>\n      <th>32</th>\n      <td>Grazie</td>\n      <td>147</td>\n    </tr>\n    <tr>\n      <th>33</th>\n      <td>Core. Task Management</td>\n      <td>143</td>\n    </tr>\n    <tr>\n      <th>34</th>\n      <td>Lang. Shell Script</td>\n      <td>138</td>\n    </tr>\n    <tr>\n      <th>35</th>\n      <td>Core. Profiler</td>\n      <td>128</td>\n    </tr>\n    <tr>\n      <th>36</th>\n      <td>Lang. XML</td>\n      <td>118</td>\n    </tr>\n    <tr>\n      <th>37</th>\n      <td>Core. SSH</td>\n      <td>102</td>\n    </tr>\n    <tr>\n      <th>38</th>\n      <td>Editor. Color Schemes</td>\n      <td>93</td>\n    </tr>\n    <tr>\n      <th>39</th>\n      <td>Core. Refactorings</td>\n      <td>93</td>\n    </tr>\n    <tr>\n      <th>40</th>\n      <td>Editor. Intention Actions</td>\n      <td>81</td>\n    </tr>\n    <tr>\n      <th>41</th>\n      <td>Core. Licensing</td>\n      <td>77</td>\n    </tr>\n    <tr>\n      <th>42</th>\n      <td>IDE</td>\n      <td>75</td>\n    </tr>\n    <tr>\n      <th>43</th>\n      <td>Lang. YAML</td>\n      <td>74</td>\n    </tr>\n    <tr>\n      <th>44</th>\n      <td>Editor. Error Highlighting</td>\n      <td>67</td>\n    </tr>\n    <tr>\n      <th>45</th>\n      <td>Core. Diagrams</td>\n      <td>67</td>\n    </tr>\n    <tr>\n      <th>46</th>\n      <td>Lang. Thymeleaf</td>\n      <td>61</td>\n    </tr>\n    <tr>\n      <th>47</th>\n      <td>Markdown</td>\n      <td>60</td>\n    </tr>\n    <tr>\n      <th>48</th>\n      <td>Core. Run. Targets</td>\n      <td>59</td>\n    </tr>\n    <tr>\n      <th>49</th>\n      <td>Infrastructure</td>\n      <td>59</td>\n    </tr>\n    <tr>\n      <th>50</th>\n      <td>Go</td>\n      <td>56</td>\n    </tr>\n    <tr>\n      <th>51</th>\n      <td>Lang. RegExp</td>\n      <td>48</td>\n    </tr>\n    <tr>\n      <th>52</th>\n      <td>Lang. JSON</td>\n      <td>47</td>\n    </tr>\n    <tr>\n      <th>53</th>\n      <td>Editor. Spellcheck</td>\n      <td>46</td>\n    </tr>\n    <tr>\n      <th>54</th>\n      <td>Space</td>\n      <td>46</td>\n    </tr>\n    <tr>\n      <th>55</th>\n      <td>Core. Password Management</td>\n      <td>45</td>\n    </tr>\n    <tr>\n      <th>56</th>\n      <td>Editor. Code Completion. ML</td>\n      <td>43</td>\n    </tr>\n    <tr>\n      <th>57</th>\n      <td>Core. Run. External Tools</td>\n      <td>42</td>\n    </tr>\n  </tbody>\n</table>\n</div>"
     },
     "execution_count": 31,
     "metadata": {},
     "output_type": "execute_result"
    }
   ],
   "source": [
    "counts = df[['subsystem', 'id']].groupby('subsystem').count().sort_values(by=['id'], ascending=False).reset_index()\n",
    "big_subsystems = counts[counts['id'] > 40]\n",
    "big_subsystems_names = big_subsystems['subsystem'].tolist()\n",
    "big_subsystems"
   ],
   "metadata": {
    "collapsed": false,
    "pycharm": {
     "name": "#%%\n"
    }
   }
  },
  {
   "cell_type": "code",
   "execution_count": 32,
   "outputs": [],
   "source": [
    "predefined_subsystems = {'Core. Quick Documentation': 'batrdmi', 'Editor. Formatter': 'rvishnyakov', 'Editor. Diff and Merge': 'AMPivovarov', 'Lang. Shell Script': 'Mikhail.Mazurkevich'}"
   ],
   "metadata": {
    "collapsed": false,
    "pycharm": {
     "name": "#%%\n"
    }
   }
  },
  {
   "cell_type": "code",
   "execution_count": 35,
   "outputs": [
    {
     "data": {
      "text/plain": "['User Interface',\n 'Java',\n 'Version Control',\n 'Build',\n 'Frameworks',\n 'Editor',\n 'Core. IDE Settings',\n 'Code Analysis',\n 'JavaX',\n 'Core. Plugin Management',\n 'Tools. Docker',\n 'Core. Run. Configurations',\n 'Tools. Terminal',\n 'Groovy',\n 'Localization',\n 'Tools. Kubernetes',\n 'Core. Project Settings',\n 'Editor. Formatter',\n 'Core. Installation',\n 'Core. Navigation and Search',\n 'Plugin Development (DevKit)',\n 'Core. Indexing',\n 'Editor. Diff and Merge',\n 'Android',\n 'Core',\n 'Lang. Markdown',\n 'Core. Debugger',\n 'Core. Platform API',\n 'Tools. HTTP Client',\n 'Editor. Code Completion',\n 'Core. File System',\n 'Core. Quick Documentation',\n 'Grazie',\n 'Core. Task Management',\n 'Lang. Shell Script',\n 'Core. Profiler',\n 'Lang. XML',\n 'Core. SSH',\n 'Editor. Color Schemes',\n 'Core. Refactorings',\n 'Editor. Intention Actions',\n 'Core. Licensing',\n 'IDE',\n 'Lang. YAML',\n 'Editor. Error Highlighting',\n 'Core. Diagrams',\n 'Lang. Thymeleaf',\n 'Markdown',\n 'Core. Run. Targets',\n 'Infrastructure',\n 'Go',\n 'Lang. RegExp',\n 'Lang. JSON',\n 'Editor. Spellcheck',\n 'Space',\n 'Core. Password Management',\n 'Editor. Code Completion. ML',\n 'Core. Run. External Tools']"
     },
     "execution_count": 35,
     "metadata": {},
     "output_type": "execute_result"
    }
   ],
   "source": [
    "big_subsystems_names"
   ],
   "metadata": {
    "collapsed": false,
    "pycharm": {
     "name": "#%%\n"
    }
   }
  },
  {
   "cell_type": "code",
   "execution_count": 68,
   "outputs": [
    {
     "name": "stdout",
     "output_type": "stream",
     "text": [
      "User Interface - top 1 score: 0.20295202952029523\n",
      "User Interface - top 3 score: 0.3173431734317343\n",
      "User Interface - top 5 score: 0.33210332103321033\n",
      "Java - top 1 score: 0.4665071770334928\n",
      "Java - top 3 score: 0.645933014354067\n",
      "Java - top 5 score: 0.65311004784689\n",
      "Version Control - top 1 score: 0.45989304812834225\n",
      "Version Control - top 3 score: 0.6631016042780749\n",
      "Version Control - top 5 score: 0.7058823529411765\n",
      "Build - top 1 score: 0.46616541353383456\n",
      "Build - top 3 score: 0.6917293233082706\n",
      "Build - top 5 score: 0.7293233082706767\n",
      "Frameworks - top 1 score: 0.5882352941176471\n",
      "Frameworks - top 3 score: 0.7908496732026143\n",
      "Frameworks - top 5 score: 0.8627450980392157\n",
      "Editor - top 1 score: 0.6265060240963856\n",
      "Editor - top 3 score: 0.6506024096385542\n",
      "Editor - top 5 score: 0.6506024096385542\n",
      "Core. IDE Settings - top 1 score: 0.2127659574468085\n",
      "Core. IDE Settings - top 3 score: 0.3829787234042553\n",
      "Core. IDE Settings - top 5 score: 0.3829787234042553\n",
      "Code Analysis - top 1 score: 0.4666666666666667\n",
      "Code Analysis - top 3 score: 0.5866666666666667\n",
      "Code Analysis - top 5 score: 0.64\n",
      "JavaX - top 1 score: 0.5283018867924528\n",
      "JavaX - top 3 score: 0.7735849056603774\n",
      "JavaX - top 5 score: 0.7924528301886793\n",
      "Core. Plugin Management - top 1 score: 0.14084507042253522\n",
      "Core. Plugin Management - top 3 score: 0.6338028169014085\n",
      "Core. Plugin Management - top 5 score: 0.6338028169014085\n",
      "Tools. Docker - top 1 score: 0.9183673469387755\n",
      "Tools. Docker - top 3 score: 0.9591836734693877\n",
      "Tools. Docker - top 5 score: 0.9591836734693877\n",
      "Core. Run. Configurations - top 1 score: 0.14285714285714285\n",
      "Core. Run. Configurations - top 3 score: 0.5714285714285714\n",
      "Core. Run. Configurations - top 5 score: 0.5714285714285714\n",
      "Tools. Terminal - top 1 score: 0.6818181818181818\n",
      "Tools. Terminal - top 3 score: 0.8181818181818182\n",
      "Tools. Terminal - top 5 score: 0.8181818181818182\n",
      "Groovy - top 1 score: 0.7441860465116279\n",
      "Groovy - top 3 score: 0.9069767441860465\n",
      "Groovy - top 5 score: 0.9069767441860465\n",
      "Localization - top 1 score: 0.3114754098360656\n",
      "Localization - top 3 score: 0.3770491803278688\n",
      "Localization - top 5 score: 0.3770491803278688\n",
      "Tools. Kubernetes - top 1 score: 0.03225806451612903\n",
      "Tools. Kubernetes - top 3 score: 0.967741935483871\n",
      "Tools. Kubernetes - top 5 score: 0.967741935483871\n",
      "Core. Project Settings - top 1 score: 0.11764705882352941\n",
      "Core. Project Settings - top 3 score: 0.47058823529411764\n",
      "Core. Project Settings - top 5 score: 0.47058823529411764\n",
      "Core. Installation - top 1 score: 0.6451612903225806\n",
      "Core. Installation - top 3 score: 0.7419354838709677\n",
      "Core. Installation - top 5 score: 0.7419354838709677\n",
      "Subsystem Core. Navigation and Search. Random developers\n",
      "Plugin Development (DevKit) - top 1 score: 0.825\n",
      "Plugin Development (DevKit) - top 3 score: 0.9\n",
      "Plugin Development (DevKit) - top 5 score: 0.9\n",
      "Core. Indexing - top 1 score: 0.5882352941176471\n",
      "Core. Indexing - top 3 score: 0.7647058823529411\n",
      "Core. Indexing - top 5 score: 0.7647058823529411\n",
      "Android - top 1 score: 0.47368421052631576\n",
      "Android - top 3 score: 0.7894736842105263\n",
      "Android - top 5 score: 0.7894736842105263\n",
      "Subsystem Core. Random developers\n",
      "Subsystem Lang. Markdown: one developer. His rate: 0.72\n",
      "2. Can't evaluate Core. Debugger, too few examples\n",
      "Subsystem Core. Platform API: one developer. His rate: 0.24615384615384617\n",
      "Tools. HTTP Client - top 1 score: 0.9230769230769231\n",
      "Tools. HTTP Client - top 3 score: 0.9230769230769231\n",
      "Tools. HTTP Client - top 5 score: 0.9230769230769231\n",
      "Editor. Code Completion - top 1 score: 0.5\n",
      "Editor. Code Completion - top 3 score: 0.5\n",
      "Editor. Code Completion - top 5 score: 0.5\n",
      "Core. File System - top 1 score: 0.25\n",
      "Core. File System - top 3 score: 0.5833333333333334\n",
      "Core. File System - top 5 score: 0.5833333333333334\n",
      "Grazie - top 1 score: 0.5652173913043478\n",
      "Grazie - top 3 score: 0.9565217391304348\n",
      "Grazie - top 5 score: 0.9565217391304348\n",
      "Subsystem Core. Task Management. Random developers\n",
      "Core. Profiler - top 1 score: 0.6428571428571429\n",
      "Core. Profiler - top 3 score: 0.8571428571428571\n",
      "Core. Profiler - top 5 score: 0.8571428571428571\n",
      "Subsystem Lang. XML: one developer. His rate: 0.6875\n",
      "Core. SSH - top 1 score: 0.5\n",
      "Core. SSH - top 3 score: 0.8333333333333334\n",
      "Core. SSH - top 5 score: 0.8333333333333334\n",
      "Subsystem Editor. Color Schemes. Random developers\n",
      "Subsystem Core. Refactorings: one developer. His rate: 0.5882352941176471\n",
      "Subsystem Editor. Intention Actions. Random developers\n",
      "Core. Licensing - top 1 score: 0.4\n",
      "Core. Licensing - top 3 score: 1.0\n",
      "Core. Licensing - top 5 score: 1.0\n",
      "Subsystem IDE. Random developers\n",
      "Subsystem Lang. YAML: one developer. His rate: 0.5294117647058824\n",
      "Subsystem Editor. Error Highlighting. Random developers\n",
      "Subsystem Core. Diagrams: one developer. His rate: 0.5384615384615384\n",
      "Subsystem Lang. Thymeleaf: one developer. His rate: 0.7142857142857143\n",
      "Subsystem Markdown: one developer. His rate: 0.5\n",
      "Subsystem Core. Run. Targets. Random developers\n",
      "Subsystem Infrastructure: one developer. His rate: 0.6206896551724138\n",
      "Subsystem Go. Random developers\n",
      "Subsystem Lang. RegExp: one developer. His rate: 0.875\n",
      "Subsystem Lang. JSON: one developer. His rate: 0.9230769230769231\n",
      "Subsystem Editor. Spellcheck: one developer. His rate: 0.5833333333333334\n",
      "Subsystem Space: one developer. His rate: 0.8\n",
      "Subsystem Core. Password Management. Random developers\n",
      "Subsystem Editor. Code Completion. ML. Random developers\n",
      "Subsystem Core. Run. External Tools. Random developers\n"
     ]
    },
    {
     "data": {
      "text/plain": "                      subsystem         1         3         5\n0                User Interface  0.202952  0.317343  0.332103\n1                          Java  0.466507  0.645933  0.653110\n2               Version Control  0.459893  0.663102  0.705882\n3                         Build  0.466165  0.691729  0.729323\n4                    Frameworks  0.588235  0.790850  0.862745\n5                        Editor  0.626506  0.650602  0.650602\n6            Core. IDE Settings  0.212766  0.382979  0.382979\n7                 Code Analysis  0.466667  0.586667  0.640000\n8                         JavaX  0.528302  0.773585  0.792453\n9       Core. Plugin Management  0.140845  0.633803  0.633803\n10                Tools. Docker  0.918367  0.959184  0.959184\n11    Core. Run. Configurations  0.142857  0.571429  0.571429\n12              Tools. Terminal  0.681818  0.818182  0.818182\n13                       Groovy  0.744186  0.906977  0.906977\n14                 Localization  0.311475  0.377049  0.377049\n15            Tools. Kubernetes  0.032258  0.967742  0.967742\n16       Core. Project Settings  0.117647  0.470588  0.470588\n17           Core. Installation  0.645161  0.741935  0.741935\n18  Plugin Development (DevKit)  0.825000  0.900000  0.900000\n19               Core. Indexing  0.588235  0.764706  0.764706\n20                      Android  0.473684  0.789474  0.789474\n21               Lang. Markdown  0.720000  0.720000  0.720000\n22           Core. Platform API  0.246154  0.246154  0.246154\n23           Tools. HTTP Client  0.923077  0.923077  0.923077\n24      Editor. Code Completion  0.500000  0.500000  0.500000\n25            Core. File System  0.250000  0.583333  0.583333\n26                       Grazie  0.565217  0.956522  0.956522\n27               Core. Profiler  0.642857  0.857143  0.857143\n28                    Lang. XML  0.687500  0.687500  0.687500\n29                    Core. SSH  0.500000  0.833333  0.833333\n30           Core. Refactorings  0.588235  0.588235  0.588235\n31              Core. Licensing  0.400000  1.000000  1.000000\n32                   Lang. YAML  0.529412  0.529412  0.529412\n33               Core. Diagrams  0.538462  0.538462  0.538462\n34              Lang. Thymeleaf  0.714286  0.714286  0.714286\n35                     Markdown  0.500000  0.500000  0.500000\n36               Infrastructure  0.620690  0.620690  0.620690\n37                 Lang. RegExp  0.875000  0.875000  0.875000\n38                   Lang. JSON  0.923077  0.923077  0.923077\n39           Editor. Spellcheck  0.583333  0.583333  0.583333\n40                        Space  0.800000  0.800000  0.800000",
      "text/html": "<div>\n<style scoped>\n    .dataframe tbody tr th:only-of-type {\n        vertical-align: middle;\n    }\n\n    .dataframe tbody tr th {\n        vertical-align: top;\n    }\n\n    .dataframe thead th {\n        text-align: right;\n    }\n</style>\n<table border=\"1\" class=\"dataframe\">\n  <thead>\n    <tr style=\"text-align: right;\">\n      <th></th>\n      <th>subsystem</th>\n      <th>1</th>\n      <th>3</th>\n      <th>5</th>\n    </tr>\n  </thead>\n  <tbody>\n    <tr>\n      <th>0</th>\n      <td>User Interface</td>\n      <td>0.202952</td>\n      <td>0.317343</td>\n      <td>0.332103</td>\n    </tr>\n    <tr>\n      <th>1</th>\n      <td>Java</td>\n      <td>0.466507</td>\n      <td>0.645933</td>\n      <td>0.653110</td>\n    </tr>\n    <tr>\n      <th>2</th>\n      <td>Version Control</td>\n      <td>0.459893</td>\n      <td>0.663102</td>\n      <td>0.705882</td>\n    </tr>\n    <tr>\n      <th>3</th>\n      <td>Build</td>\n      <td>0.466165</td>\n      <td>0.691729</td>\n      <td>0.729323</td>\n    </tr>\n    <tr>\n      <th>4</th>\n      <td>Frameworks</td>\n      <td>0.588235</td>\n      <td>0.790850</td>\n      <td>0.862745</td>\n    </tr>\n    <tr>\n      <th>5</th>\n      <td>Editor</td>\n      <td>0.626506</td>\n      <td>0.650602</td>\n      <td>0.650602</td>\n    </tr>\n    <tr>\n      <th>6</th>\n      <td>Core. IDE Settings</td>\n      <td>0.212766</td>\n      <td>0.382979</td>\n      <td>0.382979</td>\n    </tr>\n    <tr>\n      <th>7</th>\n      <td>Code Analysis</td>\n      <td>0.466667</td>\n      <td>0.586667</td>\n      <td>0.640000</td>\n    </tr>\n    <tr>\n      <th>8</th>\n      <td>JavaX</td>\n      <td>0.528302</td>\n      <td>0.773585</td>\n      <td>0.792453</td>\n    </tr>\n    <tr>\n      <th>9</th>\n      <td>Core. Plugin Management</td>\n      <td>0.140845</td>\n      <td>0.633803</td>\n      <td>0.633803</td>\n    </tr>\n    <tr>\n      <th>10</th>\n      <td>Tools. Docker</td>\n      <td>0.918367</td>\n      <td>0.959184</td>\n      <td>0.959184</td>\n    </tr>\n    <tr>\n      <th>11</th>\n      <td>Core. Run. Configurations</td>\n      <td>0.142857</td>\n      <td>0.571429</td>\n      <td>0.571429</td>\n    </tr>\n    <tr>\n      <th>12</th>\n      <td>Tools. Terminal</td>\n      <td>0.681818</td>\n      <td>0.818182</td>\n      <td>0.818182</td>\n    </tr>\n    <tr>\n      <th>13</th>\n      <td>Groovy</td>\n      <td>0.744186</td>\n      <td>0.906977</td>\n      <td>0.906977</td>\n    </tr>\n    <tr>\n      <th>14</th>\n      <td>Localization</td>\n      <td>0.311475</td>\n      <td>0.377049</td>\n      <td>0.377049</td>\n    </tr>\n    <tr>\n      <th>15</th>\n      <td>Tools. Kubernetes</td>\n      <td>0.032258</td>\n      <td>0.967742</td>\n      <td>0.967742</td>\n    </tr>\n    <tr>\n      <th>16</th>\n      <td>Core. Project Settings</td>\n      <td>0.117647</td>\n      <td>0.470588</td>\n      <td>0.470588</td>\n    </tr>\n    <tr>\n      <th>17</th>\n      <td>Core. Installation</td>\n      <td>0.645161</td>\n      <td>0.741935</td>\n      <td>0.741935</td>\n    </tr>\n    <tr>\n      <th>18</th>\n      <td>Plugin Development (DevKit)</td>\n      <td>0.825000</td>\n      <td>0.900000</td>\n      <td>0.900000</td>\n    </tr>\n    <tr>\n      <th>19</th>\n      <td>Core. Indexing</td>\n      <td>0.588235</td>\n      <td>0.764706</td>\n      <td>0.764706</td>\n    </tr>\n    <tr>\n      <th>20</th>\n      <td>Android</td>\n      <td>0.473684</td>\n      <td>0.789474</td>\n      <td>0.789474</td>\n    </tr>\n    <tr>\n      <th>21</th>\n      <td>Lang. Markdown</td>\n      <td>0.720000</td>\n      <td>0.720000</td>\n      <td>0.720000</td>\n    </tr>\n    <tr>\n      <th>22</th>\n      <td>Core. Platform API</td>\n      <td>0.246154</td>\n      <td>0.246154</td>\n      <td>0.246154</td>\n    </tr>\n    <tr>\n      <th>23</th>\n      <td>Tools. HTTP Client</td>\n      <td>0.923077</td>\n      <td>0.923077</td>\n      <td>0.923077</td>\n    </tr>\n    <tr>\n      <th>24</th>\n      <td>Editor. Code Completion</td>\n      <td>0.500000</td>\n      <td>0.500000</td>\n      <td>0.500000</td>\n    </tr>\n    <tr>\n      <th>25</th>\n      <td>Core. File System</td>\n      <td>0.250000</td>\n      <td>0.583333</td>\n      <td>0.583333</td>\n    </tr>\n    <tr>\n      <th>26</th>\n      <td>Grazie</td>\n      <td>0.565217</td>\n      <td>0.956522</td>\n      <td>0.956522</td>\n    </tr>\n    <tr>\n      <th>27</th>\n      <td>Core. Profiler</td>\n      <td>0.642857</td>\n      <td>0.857143</td>\n      <td>0.857143</td>\n    </tr>\n    <tr>\n      <th>28</th>\n      <td>Lang. XML</td>\n      <td>0.687500</td>\n      <td>0.687500</td>\n      <td>0.687500</td>\n    </tr>\n    <tr>\n      <th>29</th>\n      <td>Core. SSH</td>\n      <td>0.500000</td>\n      <td>0.833333</td>\n      <td>0.833333</td>\n    </tr>\n    <tr>\n      <th>30</th>\n      <td>Core. Refactorings</td>\n      <td>0.588235</td>\n      <td>0.588235</td>\n      <td>0.588235</td>\n    </tr>\n    <tr>\n      <th>31</th>\n      <td>Core. Licensing</td>\n      <td>0.400000</td>\n      <td>1.000000</td>\n      <td>1.000000</td>\n    </tr>\n    <tr>\n      <th>32</th>\n      <td>Lang. YAML</td>\n      <td>0.529412</td>\n      <td>0.529412</td>\n      <td>0.529412</td>\n    </tr>\n    <tr>\n      <th>33</th>\n      <td>Core. Diagrams</td>\n      <td>0.538462</td>\n      <td>0.538462</td>\n      <td>0.538462</td>\n    </tr>\n    <tr>\n      <th>34</th>\n      <td>Lang. Thymeleaf</td>\n      <td>0.714286</td>\n      <td>0.714286</td>\n      <td>0.714286</td>\n    </tr>\n    <tr>\n      <th>35</th>\n      <td>Markdown</td>\n      <td>0.500000</td>\n      <td>0.500000</td>\n      <td>0.500000</td>\n    </tr>\n    <tr>\n      <th>36</th>\n      <td>Infrastructure</td>\n      <td>0.620690</td>\n      <td>0.620690</td>\n      <td>0.620690</td>\n    </tr>\n    <tr>\n      <th>37</th>\n      <td>Lang. RegExp</td>\n      <td>0.875000</td>\n      <td>0.875000</td>\n      <td>0.875000</td>\n    </tr>\n    <tr>\n      <th>38</th>\n      <td>Lang. JSON</td>\n      <td>0.923077</td>\n      <td>0.923077</td>\n      <td>0.923077</td>\n    </tr>\n    <tr>\n      <th>39</th>\n      <td>Editor. Spellcheck</td>\n      <td>0.583333</td>\n      <td>0.583333</td>\n      <td>0.583333</td>\n    </tr>\n    <tr>\n      <th>40</th>\n      <td>Space</td>\n      <td>0.800000</td>\n      <td>0.800000</td>\n      <td>0.800000</td>\n    </tr>\n  </tbody>\n</table>\n</div>"
     },
     "execution_count": 68,
     "metadata": {},
     "output_type": "execute_result"
    }
   ],
   "source": [
    "rows = []\n",
    "for subsystem in big_subsystems_names:\n",
    "    if subsystem in predefined_subsystems.keys():\n",
    "        continue\n",
    "    subsystem_df_train = train_assignee[train_assignee['subsystem'] == subsystem]\n",
    "    subsystem_df_test = test_assignee[test_assignee['subsystem'] == subsystem]\n",
    "\n",
    "    filtered_train = subsystem_df_train.groupby('fixed_by').filter(lambda x: len(x) > max(6, int(len(subsystem_df_train) * 0.06)))\n",
    "    y_train = filtered_train['fixed_by']\n",
    "    X_train = filtered_train[['text tokenized', 'reporter']]\n",
    "\n",
    "    if len(filtered_train['fixed_by'].unique()) == 0:\n",
    "        print('Subsystem {}. Random developers'.format(subsystem))\n",
    "        continue\n",
    "\n",
    "    if len(filtered_train['fixed_by'].unique()) == 1:\n",
    "        developers_issue_count = len(filtered_train['fixed_by'])\n",
    "        rate = developers_issue_count / len(subsystem_df_train)\n",
    "        row = [subsystem, rate, rate, rate]\n",
    "        rows.append(row)\n",
    "        print(\"Subsystem {}: one developer. His rate: {}\".format(subsystem, rate))\n",
    "        continue\n",
    "\n",
    "    classifier = CalibratedClassifierCV(LinearSVC(C=0.9))\n",
    "    pipeline_classifier = Pipeline(steps=[\n",
    "        ('feature', FeatureUnion([\n",
    "            (\"selector\", ColumnTransformer([\n",
    "                (\"selector\", OneHotEncoder(handle_unknown='ignore'), ['reporter'])\n",
    "            ])),\n",
    "            ('text', Pipeline([\n",
    "                (\"selector\", ColumnTransformer([\n",
    "                    (\"tfidf\", TfidfVectorizer(ngram_range=(1, 3), max_df=0.8), 'text tokenized')\n",
    "                ]))\n",
    "            ])),\n",
    "        ])),\n",
    "        ('clf', classifier)\n",
    "    ])\n",
    "    pipeline_classifier.fit(X_train, y_train)\n",
    "    filename = 'model/assignee_for_{}_classifier.pkl'.format(subsystem)\n",
    "    joblib.dump(pipeline_classifier, filename, compress=9)\n",
    "\n",
    "    cls = joblib.load(filename)\n",
    "\n",
    "    unique_fixed_by = y_train.drop_duplicates().tolist()\n",
    "    filtered_test = subsystem_df_test[subsystem_df_test['fixed_by'].isin(unique_fixed_by)]\n",
    "    X_test = filtered_test[['text tokenized', 'reporter']]\n",
    "    if len(filtered_test['fixed_by']) == 0:\n",
    "        print(\"2. Can't evaluate {}, too few examples\".format(subsystem))\n",
    "        continue\n",
    "    probas = pipeline_classifier.predict_proba(X_test)\n",
    "\n",
    "    y_test = filtered_test['fixed_by']\n",
    "    row = [subsystem]\n",
    "    for k in [1, 3, 5]:\n",
    "        top_k_rate = fixed_top_k_accuracy_score(y_test, probas, unique_fixed_by, k=k)\n",
    "        right_answers = top_k_rate * filtered_test.shape[0]\n",
    "        real_top_k_rate = right_answers / subsystem_df_test.shape[0]\n",
    "        row.append(real_top_k_rate)\n",
    "        print(\"{} - top {} score: {}\".format(subsystem, k, real_top_k_rate))\n",
    "    rows.append(row)\n",
    "\n",
    "result = pd.DataFrame(rows, columns=[\"subsystem\", '1', '3', '5'])\n",
    "result"
   ],
   "metadata": {
    "collapsed": false,
    "pycharm": {
     "name": "#%%\n"
    }
   }
  },
  {
   "cell_type": "code",
   "execution_count": 70,
   "outputs": [
    {
     "data": {
      "text/plain": "<matplotlib.legend.Legend at 0x7f82e466ad60>"
     },
     "execution_count": 70,
     "metadata": {},
     "output_type": "execute_result"
    },
    {
     "data": {
      "text/plain": "<Figure size 1440x216 with 1 Axes>",
      "image/png": "[encoded data removed]"
     },
     "metadata": {
      "needs_background": "light"
     },
     "output_type": "display_data"
    }
   ],
   "source": [
    "fig = plt.figure(figsize=(20,3))\n",
    "fig.gca().margins(.01)\n",
    "plt.xticks(rotation=90, ha='right', fontsize='small')\n",
    "plt.stem(result['subsystem'], result['5'], use_line_collection=True, linefmt=\"C2-\", markerfmt=\"C2o\")\n",
    "plt.stem(result['subsystem'], result['3'], use_line_collection=True, linefmt=\"C1-\", markerfmt=\"C1o\")\n",
    "plt.stem(result['subsystem'], result['1'], use_line_collection=True)\n",
    "plt.legend(['Top 5', 'Top 3', 'Top 1'])"
   ],
   "metadata": {
    "collapsed": false,
    "pycharm": {
     "name": "#%%\n"
    }
   }
  },
  {
   "cell_type": "code",
   "execution_count": null,
   "outputs": [],
   "source": [
    "issues_without_subsystem = list(filter(lambda x: 'subsystem' not in x or x['subsystem'] in [None, 'Unknown', 'No Subsystem', 'Am uncertain I'], issues))"
   ],
   "metadata": {
    "collapsed": false,
    "pycharm": {
     "name": "#%%\n"
    }
   }
  },
  {
   "cell_type": "code",
   "execution_count": null,
   "outputs": [],
   "source": [
    "filename = 'model/subsystem.pkl'\n",
    "joblib.dump(pipeline_classifier, filename, compress=9)"
   ],
   "metadata": {
    "collapsed": false,
    "pycharm": {
     "name": "#%%\n",
     "is_executing": true
    }
   }
  },
  {
   "cell_type": "code",
   "execution_count": null,
   "outputs": [],
   "source": [
    "y_test = test['subsystem']\n",
    "X_test = test['text tokenized']"
   ],
   "metadata": {
    "collapsed": false,
    "pycharm": {
     "name": "#%%\n",
     "is_executing": true
    }
   }
  },
  {
   "cell_type": "code",
   "execution_count": null,
   "outputs": [],
   "source": [
    "pipeline_classifier.score(X_test, y_test)"
   ],
   "metadata": {
    "collapsed": false,
    "pycharm": {
     "name": "#%%\n",
     "is_executing": true
    }
   }
  },
  {
   "cell_type": "code",
   "execution_count": 35,
   "outputs": [
    {
     "data": {
      "text/plain": "(7818, 2)"
     },
     "execution_count": 35,
     "metadata": {},
     "output_type": "execute_result"
    }
   ],
   "source": [
    "test.shape"
   ],
   "metadata": {
    "collapsed": false,
    "pycharm": {
     "name": "#%%\n"
    }
   }
  },
  {
   "cell_type": "code",
   "execution_count": 36,
   "outputs": [],
   "source": [
    "unique_trained_subsystems = y_train.drop_duplicates().tolist()"
   ],
   "metadata": {
    "collapsed": false,
    "pycharm": {
     "name": "#%%\n"
    }
   }
  },
  {
   "cell_type": "code",
   "execution_count": 37,
   "outputs": [
    {
     "data": {
      "text/plain": "(7652, 2)"
     },
     "execution_count": 37,
     "metadata": {},
     "output_type": "execute_result"
    }
   ],
   "source": [
    "filtered_test = test[test['subsystem'].isin(unique_trained_subsystems)]\n",
    "filtered_test.shape"
   ],
   "metadata": {
    "collapsed": false,
    "pycharm": {
     "name": "#%%\n"
    }
   }
  },
  {
   "cell_type": "code",
   "execution_count": 38,
   "outputs": [],
   "source": [
    "y_test = filtered_test['subsystem']\n",
    "X_test = filtered_test['text tokenized']"
   ],
   "metadata": {
    "collapsed": false,
    "pycharm": {
     "name": "#%%\n"
    }
   }
  },
  {
   "cell_type": "code",
   "execution_count": 39,
   "outputs": [],
   "source": [
    "probas = pipeline_classifier.predict_proba(X_test)"
   ],
   "metadata": {
    "collapsed": false,
    "pycharm": {
     "name": "#%%\n"
    }
   }
  },
  {
   "cell_type": "code",
   "execution_count": 41,
   "outputs": [
    {
     "data": {
      "text/plain": "0.8818112049117421"
     },
     "execution_count": 41,
     "metadata": {},
     "output_type": "execute_result"
    }
   ],
   "source": [
    "top_k_rate = top_k_accuracy_score(y_test, probas, k=3)\n",
    "right_answers = top_k_rate * filtered_test.shape[0]\n",
    "right_answers / test.shape[0]"
   ],
   "metadata": {
    "collapsed": false,
    "pycharm": {
     "name": "#%%\n"
    }
   }
  },
  {
   "cell_type": "code",
   "execution_count": 43,
   "outputs": [],
   "source": [
    "def score_with_threshold(classifier, y_true, probas, threshold):\n",
    "    classes = classifier.classes_\n",
    "    sure_indices = np.max(probas, axis=1) > threshold\n",
    "    sure_y_test = y_true[sure_indices].to_numpy()\n",
    "    sure_probas = probas[sure_indices]\n",
    "    sure_y_test_unique = np.unique(sure_y_test)\n",
    "    probas_indices_filtered = np.where(np.isin(classes, sure_y_test_unique))[0].tolist()\n",
    "\n",
    "    probas_filtered = np.take(sure_probas, probas_indices_filtered, axis=1)\n",
    "\n",
    "    return top_k_accuracy_score(sure_y_test, probas_filtered, k=3), len(sure_y_test) / len(y_true)\n",
    "\n",
    "\n",
    "threshold = 0.1\n",
    "thresholds = []\n",
    "sure_scores = []\n",
    "issues_passed_to_threshold = []\n",
    "while threshold < 1 - 1e-6:\n",
    "    sure_score, left_samples = score_with_threshold(pipeline_classifier, y_test, probas, threshold)\n",
    "    thresholds.append(threshold)\n",
    "    sure_scores.append(sure_score)\n",
    "    issues_passed_to_threshold.append(left_samples)\n",
    "    threshold += 0.1"
   ],
   "metadata": {
    "collapsed": false,
    "pycharm": {
     "name": "#%%\n"
    }
   }
  },
  {
   "cell_type": "code",
   "execution_count": 46,
   "outputs": [
    {
     "name": "stdout",
     "output_type": "stream",
     "text": [
      "Threshold\n"
     ]
    },
    {
     "data": {
      "text/plain": "<Figure size 432x288 with 1 Axes>",
      "image/png": "[encoded data removed]"
     },
     "metadata": {
      "needs_background": "light"
     },
     "output_type": "display_data"
    }
   ],
   "source": [
    "plt.xlabel('Threshold')\n",
    "plt.plot(thresholds, sure_scores)\n",
    "\n",
    "plt.legend(['issues passing to the threshold'])\n",
    "print('Threshold')"
   ],
   "metadata": {
    "collapsed": false,
    "pycharm": {
     "name": "#%%\n"
    }
   }
  },
  {
   "cell_type": "code",
   "execution_count": 47,
   "outputs": [
    {
     "name": "stdout",
     "output_type": "stream",
     "text": [
      "Threshold\n"
     ]
    },
    {
     "data": {
      "text/plain": "<Figure size 432x288 with 1 Axes>",
      "image/png": "[encoded data removed]"
     },
     "metadata": {
      "needs_background": "light"
     },
     "output_type": "display_data"
    }
   ],
   "source": [
    "plt.xlabel('Threshold')\n",
    "plt.plot(thresholds, issues_passed_to_threshold)\n",
    "plt.legend(['issues passing to the threshold'])\n",
    "print('Threshold')"
   ],
   "metadata": {
    "collapsed": false,
    "pycharm": {
     "name": "#%%\n"
    }
   }
  },
  {
   "cell_type": "code",
   "execution_count": null,
   "outputs": [],
   "source": [],
   "metadata": {
    "collapsed": false,
    "pycharm": {
     "name": "#%%\n"
    }
   }
  }
 ],
 "metadata": {
  "kernelspec": {
   "display_name": "Python 3",
   "language": "python",
   "name": "python3"
  },
  "language_info": {
   "codemirror_mode": {
    "name": "ipython",
    "version": 2
   },
   "file_extension": ".py",
   "mimetype": "text/x-python",
   "name": "python",
   "nbconvert_exporter": "python",
   "pygments_lexer": "ipython2",
   "version": "2.7.6"
  }
 },
 "nbformat": 4,
 "nbformat_minor": 1
}