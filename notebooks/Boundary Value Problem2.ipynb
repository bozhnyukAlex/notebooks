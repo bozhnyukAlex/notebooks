{
 "cells": [
  {
   "cell_type": "markdown",
   "id": "elder-danish",
   "metadata": {},
   "source": [
    "***Божнюк Александр Сергеевич, 271 группа***"
   ]
  },
  {
   "cell_type": "markdown",
   "id": "classified-lender",
   "metadata": {},
   "source": [
    "# Задание:\n",
    "$y''+ 2xy'-y = 2(x^2+1)cos(x)$\n",
    "$0 <= x <= 0.5$\n",
    "$y(0) = 0$  \n",
    "$y(0.5) = 0.5sin(0.5)$  \n",
    "\n"
   ]
  },
  {
   "cell_type": "markdown",
   "id": "czech-miracle",
   "metadata": {},
   "source": [
    "# Код решения (Python3)"
   ]
  },
  {
   "cell_type": "code",
   "execution_count": 1,
   "id": "engaging-cotton",
   "metadata": {},
   "outputs": [],
   "source": [
    "from math import sin, cos\n",
    "import matplotlib.pyplot as plt"
   ]
  },
  {
   "cell_type": "code",
   "execution_count": 2,
   "id": "destroyed-slovak",
   "metadata": {},
   "outputs": [],
   "source": [
    "def bvp(N, a, b, y0, yN, p, q, f):\n",
    "    h = (b - a) / N\n",
    "    x = [a + k * h for k in range(0, N + 1)]\n",
    "    L = [-1, 0] # we don't use L[0]\n",
    "    K = [-1, y0] # we don't use K[0] \n",
    "    # L[k] and K[k] evaluation\n",
    "    for j in range(2, N + 1):\n",
    "        ap = 1 - p(x[j - 1]) * h / 2\n",
    "        bp = h * h * q(x[j - 1]) - 2\n",
    "        cp = 1 + p(x[j - 1]) * h / 2\n",
    "        fp = h * h * f(x[j - 1])\n",
    "        lc = - cp / (ap * L[j - 1] + bp)\n",
    "        kc = (-ap * K[j - 1] + fp) / (ap * L[j - 1] + bp)\n",
    "        L.append(lc)\n",
    "        K.append(kc)\n",
    "    # y[k] evaluation\n",
    "    y = [yN]\n",
    "    for j in range(N - 1, 0, -1):\n",
    "        y.insert(0, L[j + 1] * y[0] + K[j + 1])\n",
    "    y.insert(0, y0)\n",
    "    return (x, y)"
   ]
  },
  {
   "cell_type": "code",
   "execution_count": 3,
   "id": "herbal-telescope",
   "metadata": {},
   "outputs": [],
   "source": [
    "def graph_plot(x, y):\n",
    "    plt.plot(x1, y1)\n",
    "    plt.xlabel(\"x\")\n",
    "    plt.ylabel(\"y\")\n",
    "    plt.show()\n"
    "    "
   ]
  },
  {
   "cell_type": "code",
   "execution_count": null,
   "outputs": [],
   "source": [
    "r = 'right'"
   ],
   "metadata": {
    "collapsed": false,
    "pycharm": {
     "name": "#%%\n"
    }
   }
  },
  {
   "cell_type": "code",
   "execution_count": null,
   "outputs": [],
   "source": [
    "rr = 'rright'"
   ],
   "metadata": {
    "collapsed": false,
    "pycharm": {
     "name": "#%%\n"
    }
   }
  },
  {
   "cell_type": "code",
   "execution_count": null,
   "outputs": [],
   "source": [
    "rrr = 'rrright'"
   ],
   "metadata": {
    "collapsed": false,
    "pycharm": {
     "name": "#%%\n"
    }
   }
     "output_type": "display_data"
    }
   ],
   "source": [
    "x1, y1 = bvp(N1, a, b, y0, yN, p, q, f)\n",
    "print(\"x1:\", x1)\n",
    "print(\"y1:\", y1)\n",
    "graph_plot(x1, y1)"
   ]
  },
  {
   "cell_type": "code",
   "execution_count": 6,
   "id": "institutional-staff",
   "metadata": {},
   "outputs": [
    {
     "data": {
      "text/plain": "<Figure size 432x288 with 1 Axes>",
      "image/png": "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\n"
     },
     "metadata": {
      "needs_background": "light"
     },
     "output_type": "display_data"
    }
   ],
   "source": [
    "x2, y2 = bvp(N2, a, b, y0, yN, p, q, f)\n",
    "graph_plot(x2, y2)"
   ]
  },
  {
   "cell_type": "markdown",
   "id": "exposed-launch",
   "metadata": {},
   "source": [
    "# Погрешность"
   ]
  },
  {
   "cell_type": "code",
   "execution_count": 7,
   "id": "arbitrary-equilibrium",
   "metadata": {},
   "outputs": [
    {
     "name": "stdout",
     "output_type": "stream",
     "text": [
      "2.29704237213052e-05\n"
     ]
    }
   ],
   "source": [
    "f = 0\n",
    "for i in range (0, 21, 2) :\n",
    "    if (abs(y1[i // 2] - y2[i]) > f) :\n",
    "        f = abs(y1[i // 2] - y2[i])\n",
    "print(f)"
   ]
  }
 ],
 "metadata": {
  "kernelspec": {
   "display_name": "Python 3",
   "language": "python",
   "name": "python3"
  },
  "language_info": {
   "codemirror_mode": {
    "name": "ipython",
    "version": 3
   },
   "file_extension": ".py",
   "mimetype": "text/x-python",
   "name": "python",
   "nbconvert_exporter": "python",
   "pygments_lexer": "ipython3",
   "version": "3.8.5"
  }
 },
 "nbformat": 4,
 "nbformat_minor": 5
}