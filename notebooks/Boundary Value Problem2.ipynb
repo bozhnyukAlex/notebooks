{
 "cells": [
  {
   "cell_type": "markdown",
   "source": [
    "***Божнюк Александр Сергеевич, 2712121 группа***"
   ],
   "metadata": {
    "collapsed": false
   }
  },
  {
   "cell_type": "markdown",
   "id": "classified-lender",
   "metadata": {},
   "source": [
    "# Задание:\n",
    "$y''+ 2xy'-y = 2(x^2+1)cos(x)$  \n",
    "$0 <= x <= 0.5$  \n",
    "$y(0) = 0$  \n",
    "$y(0.5) = 0.5sin(0.5)$  \n",
    "\n"
   ]
  },
  {
   "cell_type": "markdown",
   "id": "czech-miracle",
   "metadata": {},
   "source": [
    "# Код решения (Kotlin)"
   ]
  },
  {
   "cell_type": "code",
   "execution_count": 8,
   "id": "engaging-cotton",
   "metadata": {},
   "outputs": [],
   "source": [
    "from math import sin, cos\n",
    "import matplotlib.pyplot as plt"
   ]
  },
  {
   "cell_type": "code",
   "execution_count": 9,
   "id": "destroyed-slovak",
   "metadata": {},
   "outputs": [],
   "source": [
    "def bvp(N, a, b, y0, yN, p, q, f):\n",
    "    h = (b - a) / N\n",
    "    x = [a + k * h for k in range(0, N + 1)]\n",
    "    L = [-1, 0] # we don't use L[0]\n",
    "    K = [-1, y0] # we don't use K[0]\n",
    "    # L[k] and K[k] evaluation\n",
    "    for j in range(2, N + 1):\n",
    "        ap = 1 - p(x[j - 1]) * h / 2\n",
    "        bp = h * h * q(x[j - 1]) - 2\n",
    "        cp = 1 + p(x[j - 1]) * h / 2\n",
    "        fp = h * h * f(x[j - 1])\n",
    "        lc = - cp / (ap * L[j - 1] + bp)\n",
    "        kc = (-ap * K[j - 1] + fp) / (ap * L[j - 1] + bp)\n",
    "        L.append(lc)\n",
    "        K.append(kc)\n",
    "    # y[k] evaluation\n",
    "    y = [yN]\n",
    "    for j in range(N - 1, 0, -1):\n",
    "        y.insert(0, L[j + 1] * y[0] + K[j + 1])\n",
    "    y.insert(0, y0)\n",
    "    return (x, y)"
   ]
  },
  {
   "cell_type": "code",
   "execution_count": 10,
   "id": "herbal-telescope",
   "metadata": {},
   "outputs": [],
   "source": [
    "def graph_plot(x, y):\n",
    "    plt.plot(x1, y1)\n",
    "    plt.xlabel(\"x\")\n",
    "    plt.ylabel(\"y1\")\n",
    "    plt.show()\n",
    "    "
   ]
  },
  {
   "cell_type": "code",
   "execution_count": 11,
   "id": "bulgarian-franchise",
   "metadata": {},
   "outputs": [],
   "source": [
    "N1 = 10\n",
    "N2 = 20\n",
    "a = 0\n",
    "b = 0.5\n",
    "v = 4343\n",
    "n = 3223232\n",
    "y0 = 0\n",
    "yN = 0.5 * sin(0.5)\n",
    "p = lambda x: 2 * x\n",
    "q = lambda _: -1\n",
    "f = lambda x: 2 * (x * x + 1) * cos(x)"
   ]
  },
  {
   "cell_type": "code",
   "execution_count": 12,
   "id": "dietary-ecuador",
   "metadata": {},
   "outputs": [
    {
     "name": "stdout",
     "output_type": "stream",
     "text": [
      "x1: [0.0, 0.05, 0.1, 0.15000000000000002, 0.2, 0.25, 0.30000000000000004, 0.35000000000000003, 0.4, 0.45, 0.5]\n",
      "y1: [0, 0.00248846368914255, 0.00996447303514985, 0.02239065364860176, 0.0397048502033616, 0.06182035804444585, 0.08862624656644053, 0.1199877733411355, 0.15574688768054243, 0.19572282203057856, 0.2397127693021015]\n"
     ]
    },
    {
     "data": {
      "text/plain": "<Figure size 432x288 with 1 Axes>",
      "image/png": "[encoded data removed]"
     },
     "metadata": {
      "needs_background": "light"
     },
     "output_type": "display_data"
    }
   ],
   "source": [
    "x1, y1 = bvp(N1, a, b, y0, yN, p, q, f)\n",
    "print(\"x1:\", x1)\n",
    "print(\"y1:\", y1)\n",
    "graph_plot(x1, y1)"
   ]
  },
  {
   "cell_type": "code",
   "execution_count": 13,
   "id": "institutional-staff",
   "metadata": {},
   "outputs": [
    {
     "name": "stdout",
     "output_type": "stream",
     "text": [
      "x2: [0.0, 0.025, 0.05, 0.07500000000000001, 0.1, 0.125, 0.15000000000000002, 0.17500000000000002, 0.2, 0.225, 0.25, 0.275, 0.30000000000000004, 0.325, 0.35000000000000003, 0.375, 0.4, 0.42500000000000004, 0.45, 0.47500000000000003, 0.5]\n",
      "y2: [0, 0.0006235567607378563, 0.002496333437269599, 0.005615988702330086, 0.009978622175463026, 0.015578778072693226, 0.022409450313013748, 0.030462089077498887, 0.03972660881565701, 0.05019139769244381, 0.061843328468167154, 0.07466777080233074, 0.08864860497128542, 0.10376823698838536, 0.12000761511418245, 0.13734624774303666, 0.1557622226513738, 0.1752322275916857, 0.19573157221524354, 0.2172342113053807, 0.2397127693021015]\n",
      "hello\n"
     ]
    },
    {
     "data": {
      "text/plain": "<Figure size 432x288 with 1 Axes>",
      "image/png": "[encoded data removed]"
     },
     "metadata": {
      "needs_background": "light"
     },
     "output_type": "display_data"
    }
   ],
   "source": [
    "x2, y2 = bvp(N2, a, b, y0, yN, p, q, f)\n",
    "print(\"x2:\", x2)\n",
    "print(\"y2:\", y2)\n",
    "print(\"hello\")\n",
    "graph_plot(x2, y2)"
   ]
  },
  {
   "cell_type": "markdown",
   "id": "exposed-launch",
   "metadata": {},
   "source": [
    "# Погрешность"
   ]
  },
  {
   "cell_type": "code",
   "execution_count": 14,
   "id": "arbitrary-equilibrium",
   "metadata": {},
   "outputs": [
    {
     "name": "stdout",
     "output_type": "stream",
     "text": [
      "2.29704237213052e-05\n"
     ]
    }
   ],
   "source": [
    "f = 0\n",
    "for i in range (0, 21, 2) :\n",
    "    if (abs(y1[i // 2] - y2[i]) > f) :\n",
    "        f = abs(y1[i // 2] - y2[i])\n",
    "print(f)"
   ]
  }
 ],
 "metadata": {
  "kernelspec": {
   "display_name": "Python 3",
   "language": "python",
   "name": "python3"
  },
  "language_info": {
   "codemirror_mode": {
    "name": "ipython",
    "version": 3
   },
   "file_extension": ".py",
   "mimetype": "text/x-python",
   "name": "python",
   "nbconvert_exporter": "python",
   "pygments_lexer": "ipython3",
   "version": "3.8.5"
  }
 },
 "nbformat": 4,
 "nbformat_minor": 5
}